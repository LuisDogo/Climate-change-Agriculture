{
 "cells": [
  {
   "cell_type": "code",
   "execution_count": 1,
   "metadata": {},
   "outputs": [
    {
     "ename": "ModuleNotFoundError",
     "evalue": "No module named 'pandas'",
     "output_type": "error",
     "traceback": [
      "\u001b[0;31m---------------------------------------------------------------------------\u001b[0m",
      "\u001b[0;31mModuleNotFoundError\u001b[0m                       Traceback (most recent call last)",
      "Cell \u001b[0;32mIn[1], line 1\u001b[0m\n\u001b[0;32m----> 1\u001b[0m \u001b[38;5;28;01mimport\u001b[39;00m \u001b[38;5;21;01mpandas\u001b[39;00m \u001b[38;5;28;01mas\u001b[39;00m \u001b[38;5;21;01mpd\u001b[39;00m\n\u001b[1;32m      2\u001b[0m \u001b[38;5;28;01mimport\u001b[39;00m \u001b[38;5;21;01mmatplotlib\u001b[39;00m\u001b[38;5;21;01m.\u001b[39;00m\u001b[38;5;21;01mpyplot\u001b[39;00m \u001b[38;5;28;01mas\u001b[39;00m \u001b[38;5;21;01mplt\u001b[39;00m\n\u001b[1;32m      3\u001b[0m \u001b[38;5;28;01mimport\u001b[39;00m \u001b[38;5;21;01mseaborn\u001b[39;00m \u001b[38;5;28;01mas\u001b[39;00m \u001b[38;5;21;01msns\u001b[39;00m\n",
      "\u001b[0;31mModuleNotFoundError\u001b[0m: No module named 'pandas'"
     ]
    }
   ],
   "source": [
    "import pandas as pd\n",
    "import matplotlib.pyplot as plt\n",
    "import seaborn as sns"
   ]
  },
  {
   "cell_type": "code",
   "execution_count": null,
   "metadata": {},
   "outputs": [],
   "source": [
    "file_path = 'climate_change_impact_on_agriculture_2024.csv'\n",
    "data = pd.read_csv(file_path)\n",
    "# Display the first few rows of the dataset\n",
    "data.head()"
   ]
  },
  {
   "cell_type": "code",
   "execution_count": null,
   "metadata": {},
   "outputs": [],
   "source": [
    "data.info()"
   ]
  },
  {
   "cell_type": "code",
   "execution_count": null,
   "metadata": {},
   "outputs": [],
   "source": [
    "data['Crop_Type'].value_counts()"
   ]
  },
  {
   "cell_type": "code",
   "execution_count": null,
   "metadata": {},
   "outputs": [],
   "source": [
    "data['Country'].value_counts()"
   ]
  },
  {
   "cell_type": "code",
   "execution_count": null,
   "metadata": {},
   "outputs": [],
   "source": [
    "data[data['Country'] == \"USA\"][\"Crop_Type\"].value_counts().plot.pie(autopct='%1.1f%%', startangle=140)# crop typs in USA"
   ]
  },
  {
   "cell_type": "code",
   "execution_count": null,
   "metadata": {},
   "outputs": [],
   "source": [
    "data[data['Country'] == \"Australia\"][\"Crop_Type\"].value_counts() .plot.pie(autopct='%1.1f%%', startangle=140)# crop typs in India"
   ]
  },
  {
   "cell_type": "code",
   "execution_count": null,
   "metadata": {},
   "outputs": [],
   "source": [
    "data[data['Country'] == \"China\"][\"Crop_Type\"].value_counts() .plot.pie(autopct='%1.1f%%', startangle=140)"
   ]
  },
  {
   "cell_type": "code",
   "execution_count": null,
   "metadata": {},
   "outputs": [],
   "source": [
    "data['Crop_Yield_MT_per_HA'].describe()"
   ]
  },
  {
   "cell_type": "code",
   "execution_count": null,
   "metadata": {},
   "outputs": [],
   "source": [
    "# histogram \n",
    "\n",
    "sns.histplot(data['Crop_Yield_MT_per_HA'], kde=True)\n",
    "plt.show()"
   ]
  },
  {
   "cell_type": "markdown",
   "metadata": {},
   "source": [
    "Observaciones:\n",
    "1. Asimetría positiva\n",
    "2. La mayoría de los valores se concentran entre 1 y 3 toneladas métricas por hectárea (TM/HA)\n",
    "3. Posibles valores atípicos: Hay relativamente menos observaciones de rendimientos de cultivos superiores a 4 TM/HA."
   ]
  },
  {
   "cell_type": "code",
   "execution_count": null,
   "metadata": {},
   "outputs": [],
   "source": [
    "plt.figure(figsize=(20, 16))\n",
    "sns.barplot(x='Region', y='Average_Temperature_C', data=data, estimator='mean')\n",
    "plt.title('Temperatura Promedio Por Región')\n",
    "plt.xlabel('Región')\n",
    "plt.ylabel('Temperatura Promedio (°C)')\n",
    "plt.xticks(rotation=67)\n",
    "plt.show()"
   ]
  },
  {
   "cell_type": "code",
   "execution_count": null,
   "metadata": {},
   "outputs": [],
   "source": [
    "plt.figure(figsize=(12, 6))\n",
    "sns.lineplot(x='Year', y='Crop_Yield_MT_per_HA', data=data)\n",
    "plt.title('Rendimiento de Cultivos por Año')\n",
    "plt.xlabel('Año')\n",
    "plt.ylabel('Rendimiento de Cultivo (MT per HA)')\n",
    "plt.show()"
   ]
  },
  {
   "cell_type": "code",
   "execution_count": null,
   "metadata": {},
   "outputs": [],
   "source": [
    "plt.figure(figsize=(8, 8))\n",
    "data['Crop_Type'].value_counts().plot.pie(autopct='%1.1f%%', startangle=140)\n",
    "plt.title('Porcentaje de países por tipo de cultivo')\n",
    "plt.show()\n"
   ]
  },
  {
   "cell_type": "code",
   "execution_count": null,
   "metadata": {},
   "outputs": [],
   "source": [
    "plt.figure(figsize=(12, 6))\n",
    "sns.histplot(data['CO2_Emissions_MT'], bins=30, kde=True)\n",
    "plt.title('Distribución de las emisiones de CO2')\n",
    "plt.xlabel('Emisiones de CO2 (MT)')\n",
    "plt.ylabel('Frecuencia')\n",
    "plt.show()"
   ]
  },
  {
   "cell_type": "code",
   "execution_count": null,
   "metadata": {},
   "outputs": [],
   "source": [
    "plt.figure(figsize=(12, 6))\n",
    "sns.boxplot(x='Country', y='Crop_Yield_MT_per_HA', data=data)\n",
    "plt.title('Rendimiento de cultivos por país')\n",
    "plt.xlabel('País')\n",
    "plt.ylabel('Rendimiento de cultivos (MT per HA)')\n",
    "plt.xticks(rotation=60)\n",
    "plt.show()\n"
   ]
  },
  {
   "cell_type": "code",
   "execution_count": null,
   "metadata": {},
   "outputs": [],
   "source": [
    "# correlatino matrix \n",
    "plt.figure(figsize=(12,6))\n",
    "corr_mat = data.corr(numeric_only=True) \n",
    "sns.heatmap(corr_mat, cbar=True, annot=True, square=True, fmt='.2f', annot_kws={'size': 10}, cmap= 'magma')\n",
    "plt.show()"
   ]
  },
  {
   "cell_type": "code",
   "execution_count": null,
   "metadata": {},
   "outputs": [],
   "source": [
    "sns.pairplot(data)"
   ]
  },
  {
   "cell_type": "code",
   "execution_count": null,
   "metadata": {},
   "outputs": [],
   "source": [
    "plt.figure(figsize=(20, 16))\n",
    "sns.boxplot(x='Region', y='Economic_Impact_Million_USD', data=data)\n",
    "plt.title('Impacto Económico por Región')\n",
    "plt.xlabel('Región')\n",
    "plt.ylabel('Impacto Económico (Millones USD)')\n",
    "plt.xticks(rotation=75)\n",
    "plt.show()"
   ]
  },
  {
   "cell_type": "code",
   "execution_count": null,
   "metadata": {},
   "outputs": [],
   "source": [
    "plt.figure(figsize=(12, 6))\n",
    "sns.violinplot(x='Crop_Type', y='Irrigation_Access_%', data=data)\n",
    "plt.title('Acceso a Riego por Tipo de Cultivo')\n",
    "plt.xlabel('Tipo de Cultivo')\n",
    "plt.ylabel('Acceso a Riego (%)')\n",
    "plt.xticks(rotation=70)\n",
    "plt.show()"
   ]
  },
  {
   "cell_type": "code",
   "execution_count": null,
   "metadata": {},
   "outputs": [],
   "source": [
    "plt.figure(figsize=(20, 16))\n",
    "sns.countplot(x='Region', hue='Extreme_Weather_Events', data=data)\n",
    "plt.title('Eventos Climáticos Extremos por Región')\n",
    "plt.xlabel('Región')\n",
    "plt.ylabel('Cantidad')\n",
    "plt.xticks(rotation=75)\n",
    "plt.show()"
   ]
  },
  {
   "cell_type": "code",
   "execution_count": null,
   "metadata": {},
   "outputs": [],
   "source": [
    "plt.figure(figsize=(12, 6))\n",
    "sns.lineplot(x='Year', y='Pesticide_Use_KG_per_HA', data=data)\n",
    "plt.title('Uso de Pesticidas a lo Largo de los Años')\n",
    "plt.xlabel('Año')\n",
    "plt.ylabel('Uso de Pesticidas (KG por HA)')\n",
    "plt.show()"
   ]
  },
  {
   "cell_type": "code",
   "execution_count": null,
   "metadata": {},
   "outputs": [],
   "source": [
    "var = 'Adaptation_Strategies' \n",
    "data_v2 = pd.concat([data['Crop_Yield_MT_per_HA'], data[var]], axis = 1) \n",
    "plt.figure(figsize=(10,5))\n",
    "sns.boxplot(x = var, y = 'Crop_Yield_MT_per_HA', data=data) "
   ]
  },
  {
   "cell_type": "code",
   "execution_count": null,
   "metadata": {},
   "outputs": [],
   "source": [
    "#  Boxplot for Crop Yield by Crop Type\n",
    "plt.figure(figsize=(12, 6))\n",
    "sns.boxplot(x='Crop_Type', y='Crop_Yield_MT_per_HA', data=data)\n",
    "plt.title('Crop Yield by Crop Type')\n",
    "plt.xticks(rotation=45)\n",
    "plt.show()"
   ]
  }
 ],
 "metadata": {
  "kernelspec": {
   "display_name": "base",
   "language": "python",
   "name": "python3"
  },
  "language_info": {
   "codemirror_mode": {
    "name": "ipython",
    "version": 3
   },
   "file_extension": ".py",
   "mimetype": "text/x-python",
   "name": "python",
   "nbconvert_exporter": "python",
   "pygments_lexer": "ipython3",
   "version": "3.10.12"
  }
 },
 "nbformat": 4,
 "nbformat_minor": 2
}
